{
 "cells": [
  {
   "cell_type": "markdown",
   "metadata": {},
   "source": [
    "<p align=\"center\">\n",
    "<img src=\"image/Bellabeat.png\" alt=\"Bellabeat\" width=\"700\">\n",
    "</p>"
   ]
  },
  {
   "cell_type": "markdown",
   "metadata": {},
   "source": [
    "# Contents  \n",
    "1. [Summary](#1.)\n",
    "2. [Ask Phase](#2.)\n",
    "    1. [Business Task](#2.1.)\n",
    "    2. [Key Stakeholders](#2.2.)\n",
    "3. [Prepare Phase](#3.)\n",
    "4. [Process Phase](#4.)\n",
    "    1. [Installing packages and opening libraries](#4.1.)\n",
    "    2. [Importing datasets](#4.2.)\n",
    "    3. [Preview our datasets](#4.3.)\n",
    "    4. [Cleaning and formatting](#4.4.)\n",
    "    5. [Merging datasets](#4.5.)\n",
    "5. [Analyze and Share Phase](#5.)\n",
    "    1. [Type of users per activity level](#5.1.)\n",
    "    2. [Steps and minutes asleep per weekday](#5.2.)\n",
    "    3. [Hourly steps throughout the day](#5.3.)\n",
    "    4. [Correlations](#5.4.)\n",
    "    5. [Use of smart device](#5.5.)\n",
    "        1. [Type of users per activity level](#5.1.1.)\n",
    "        2. [Time used smart device per day](#5.1.2.)\n",
    "6. [Act Phase (Conclusion)](#6.) \n"
   ]
  },
  {
   "cell_type": "markdown",
   "metadata": {},
   "source": [
    "install.packages(\"tidyverse\")"
   ]
  },
  {
   "cell_type": "markdown",
   "metadata": {},
   "source": [
    "# 1. Summary\n",
    "<a id=\"1.\"></a>\n",
    "\n",
    "The project aims to uncover consumer usage patterns, identify growth opportunities, and optimize Bellabeat's marketing strategy. As a high-tech manufacturer of health-focused products for women, Bellabeat's mission is to excel in the global smart device market by empowering women with knowledge about their health and habits through beautifully designed technology and data-driven insights."
   ]
  },
  {
   "cell_type": "markdown",
   "metadata": {},
   "source": [
    "# 2. Ask Phase\n",
    "<a id=\"2.\"></a>"
   ]
  },
  {
   "cell_type": "markdown",
   "metadata": {},
   "source": [
    "## 2.1. Business Task\n",
    "<a id=\"2.1.\"></a>\n",
    "\n",
    "The business task is to analyze smart device fitness data for one of Bellabeat's products (such as the Bellabeat app, Leaf tracker, Time watch, or Spring water bottle) to gain insights into consumer usage patterns. The main objective is to identify growth opportunities and provide high-level recommendations that can enhance Bellabeat's marketing strategy. The ultimate goal is to empower women with knowledge about their health and habits through their health-focused smart devices, positioning Bellabeat as a leading player in the global smart device market."
   ]
  },
  {
   "cell_type": "markdown",
   "metadata": {},
   "source": [
    "## 2.2. Key Stakeholders\n",
    "<a id=\"2.2.\"></a>\n",
    "\n",
    "1. Urška Sršen: Co-founder and Chief Creative Officer of Bellabeat.\n",
    "2. Sando Mur: Co-founder and key member of the Bellabeat executive team.\n",
    "3. Bellabeat Marketing Analytics Team\n",
    "4. Bellabeat's Executive Team"
   ]
  },
  {
   "cell_type": "markdown",
   "metadata": {},
   "source": [
    "# 3. Prepare Phase\n",
    "<a id=\"3.\"></a>\n",
    "\n",
    "## Deliverable: A Description of All Data Sources Used\n",
    "\n",
    "The primary data source for this data analysis is the \"FitBit Fitness Tracker Data\" obtained from Kaggle. This dataset contains personal fitness tracker data from thirty Fitbit users who consented to the submission of their minute-level output for physical activity, heart rate, and sleep monitoring. The data includes information about daily activity, steps, and heart rate, providing insights into users' habits. The dataset is made available through Mobius under the CC0 (Public Domain) license.\n",
    "\n",
    "To address potential limitations and enhance the analysis, additional data from another source may be considered. However, the specifics of this additional data source are not mentioned in the provided information. It is important to ensure that all data sources used are credible, comply with relevant licensing and privacy regulations, and have been verified for integrity before conducting the analysis. By combining and preparing these data sources appropriately, the data analyst will be better equipped to gain valuable insights into consumer usage patterns and address Bellabeat's marketing needs effectively."
   ]
  },
  {
   "cell_type": "markdown",
   "metadata": {},
   "source": [
    "# 4. Process Phase\n",
    "<a id=\"4.\"></a>"
   ]
  },
  {
   "cell_type": "markdown",
   "metadata": {},
   "source": [
    "## 4.1. Installing packages and opening libraries\n",
    "<a id=\"4.1.\"></a>"
   ]
  },
  {
   "cell_type": "code",
   "execution_count": 7,
   "metadata": {
    "scrolled": true
   },
   "outputs": [
    {
     "name": "stderr",
     "output_type": "stream",
     "text": [
      "also installing the dependencies ‘systemfonts’, ‘textshaping’, ‘ragg’\n",
      "\n",
      "\n",
      "Warning message in install.packages(\"tidyverse\"):\n",
      "“installation of package ‘textshaping’ had non-zero exit status”\n",
      "Warning message in install.packages(\"tidyverse\"):\n",
      "“installation of package ‘ragg’ had non-zero exit status”\n",
      "Warning message in install.packages(\"tidyverse\"):\n",
      "“installation of package ‘tidyverse’ had non-zero exit status”\n",
      "Updating HTML index of packages in '.Library'\n",
      "\n",
      "Making 'packages.html' ...\n",
      " done\n",
      "\n"
     ]
    }
   ],
   "source": [
    "install.packages(\"chron\")\n",
    "install.packages(\"tidyverse\")"
   ]
  },
  {
   "cell_type": "code",
   "execution_count": 1,
   "metadata": {},
   "outputs": [
    {
     "ename": "ERROR",
     "evalue": "Error in library(tidyverse): there is no package called ‘tidyverse’\n",
     "output_type": "error",
     "traceback": [
      "Error in library(tidyverse): there is no package called ‘tidyverse’\nTraceback:\n",
      "1. library(tidyverse)"
     ]
    }
   ],
   "source": [
    "library(chron) # For working with times\n",
    "library(tidyverse) # For data manipulation and visualization\n",
    "library(lubridate) # For working with dates"
   ]
  },
  {
   "cell_type": "markdown",
   "metadata": {},
   "source": [
    "## 4.2. Importing datasets\n",
    "<a id=\"4.2.\"></a>"
   ]
  },
  {
   "cell_type": "markdown",
   "metadata": {},
   "source": [
    "## 4.3. Preview our datasets\n",
    "<a id=\"4.3.\"></a>"
   ]
  },
  {
   "cell_type": "markdown",
   "metadata": {},
   "source": [
    "## 4.5. Merging datasets\n",
    "<a id=\"4.5.\"></a>"
   ]
  },
  {
   "cell_type": "markdown",
   "metadata": {},
   "source": [
    "# 5. Analyze and Share Phase\n",
    "<a id=\"5.\"></a>\r"
   ]
  },
  {
   "cell_type": "markdown",
   "metadata": {},
   "source": [
    "## 5.1. Type of users per activity level\n",
    "<a id=\"5.1.\"></a>"
   ]
  },
  {
   "cell_type": "markdown",
   "metadata": {},
   "source": [
    "## 5.2. Steps and minutes asleep per weekday\n",
    "<a id=\"5.2.\"></a>"
   ]
  },
  {
   "cell_type": "markdown",
   "metadata": {},
   "source": [
    "## 5.3. Hourly steps throughout the day\n",
    "<a id=\"5.3.\"></a>"
   ]
  },
  {
   "cell_type": "markdown",
   "metadata": {},
   "source": [
    "## 5.4. Correlations\n",
    "<a id=\"5.4.\"></a>"
   ]
  },
  {
   "cell_type": "markdown",
   "metadata": {},
   "source": [
    "## 5.5. Use of smart device\n",
    "<a id=\"5.5.\"></a>"
   ]
  },
  {
   "cell_type": "markdown",
   "metadata": {},
   "source": [
    "## 5.5.1. Days used smart device\n",
    "<a id=\"5.5.1.\"></a>"
   ]
  },
  {
   "cell_type": "markdown",
   "metadata": {},
   "source": [
    "## 5.5.2. Time used smart device per day\n",
    "<a id=\"5.5.2.\"></a>"
   ]
  },
  {
   "cell_type": "markdown",
   "metadata": {},
   "source": [
    "# 6. Act Phase (Conclusion)\r",
    "<a id=\"6\"></a>"
   ]
  }
 ],
 "metadata": {
  "kernelspec": {
   "display_name": "R",
   "language": "R",
   "name": "ir"
  },
  "language_info": {
   "codemirror_mode": "r",
   "file_extension": ".r",
   "mimetype": "text/x-r-source",
   "name": "R",
   "pygments_lexer": "r",
   "version": "4.2.3"
  }
 },
 "nbformat": 4,
 "nbformat_minor": 4
}
